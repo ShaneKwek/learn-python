{
 "cells": [
  {
   "cell_type": "markdown",
   "metadata": {},
   "source": [
    "Given an integer array `nums`, return all the triplets `[nums[i], nums[j], nums[k]]` such that `i != j`, `i != k` and `j != k`, and `nums[i] + nums[j] + nums[k] == 0`. \n",
    "\n",
    "Notice that the solution set must not contain duplicate triplets.\n",
    "\n",
    "**Example 1:**\n",
    "\n",
    "**Input:** `nums = [-1,0,1,2,-1,-4]`\n",
    "\n",
    "**Output:** `[[-1,-1,2], [-1,0,1]]`\n",
    "\n",
    "**Explanation:** \n",
    "\n",
    "`nums[0] + nums[1] + nums[2] = (-1) + 0 + 1 = 0.`\n",
    "\n",
    "`nums[1] + nums[2] + nums[4] = 0 + 1 + (-1) = 0.`\n",
    "\n",
    "`nums[0] + nums[3] + nums[4] = (-1) + 2 + (-1) = 0.`\n",
    "\n",
    "The duplicate triplets are `[-1,0,1]` and `[-1,-1,2]`.\n",
    "\n",
    "Notice that the order of the output..."
   ]
  },
  {
   "cell_type": "code",
   "execution_count": 8,
   "metadata": {},
   "outputs": [
    {
     "name": "stdout",
     "output_type": "stream",
     "text": [
      "0 1 5\n",
      "0 2 5\n",
      "0 3 5\n",
      "0 4 5\n",
      "0 1 4\n",
      "0 2 4\n",
      "0 3 4\n",
      "0 1 3\n",
      "0 2 3\n",
      "0 1 2\n",
      "1 2 5\n",
      "1 3 5\n",
      "1 4 5\n",
      "1 2 4\n",
      "1 3 4\n",
      "1 2 3\n",
      "2 3 5\n",
      "2 4 5\n",
      "2 3 4\n",
      "3 4 5\n",
      "[[-1, -1, 2], [-1, 0, 1]]\n"
     ]
    }
   ],
   "source": [
    "nums = [-1,0,1,2,-1,-4]\n",
    "left_index = 0\n",
    "mid_index = left_index + 1\n",
    "right_index = len(nums) - 1\n",
    "\n",
    "zero_triplets = []\n",
    "while left_index + 1 != len(nums) - 1:\n",
    "    while left_index + 1 != right_index:\n",
    "        while mid_index < right_index:\n",
    "            print(left_index, mid_index, right_index)\n",
    "            sum_triplets = nums[left_index] + nums[mid_index] + nums[right_index]\n",
    "            sorted_triplets = sorted([nums[left_index], nums[mid_index], nums[right_index]])\n",
    "            if sum_triplets == 0 and (sorted_triplets not in zero_triplets):\n",
    "                zero_triplets.append(sorted_triplets)\n",
    "            mid_index += 1\n",
    "        mid_index = left_index + 1\n",
    "        right_index -= 1\n",
    "    left_index += 1\n",
    "    mid_index = left_index + 1\n",
    "    right_index = len(nums) - 1\n",
    "\n",
    "print(zero_triplets)\n"
   ]
  }
 ],
 "metadata": {
  "kernelspec": {
   "display_name": "Python 3",
   "language": "python",
   "name": "python3"
  },
  "language_info": {
   "codemirror_mode": {
    "name": "ipython",
    "version": 3
   },
   "file_extension": ".py",
   "mimetype": "text/x-python",
   "name": "python",
   "nbconvert_exporter": "python",
   "pygments_lexer": "ipython3",
   "version": "3.12.3"
  }
 },
 "nbformat": 4,
 "nbformat_minor": 2
}
