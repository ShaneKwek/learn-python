{
 "cells": [
  {
   "cell_type": "code",
   "execution_count": 1,
   "metadata": {},
   "outputs": [],
   "source": [
    "import pandas as pd \n",
    "import re\n",
    "\n",
    "def format_learning_survey(level):\n",
    "    excel_file = '2020 '+level + ' Subject Class List.xlsx'\n",
    "    \n",
    "    if level in ('SH1', 'SH2'):\n",
    "        df = pd.read_excel(excel_file, sheet_name = 'Subject Class Lists')\n",
    "        columns_to_delete = ['New Reg No', 'Semester']\n",
    "        df[\"Subject Code1\"] = df[\"Subject Code\"].str.slice(stop = 2)\n",
    "        df.rename(columns = {'StudentName': 'Student Name', 'TeacherName': 'Teacher Name'}, inplace = True)\n",
    "    else:\n",
    "        df = pd.read_excel(excel_file, sheet_name = level)\n",
    "        if level == 'JH1' or level == 'JH2':\n",
    "            sem = ['Both', 2]\n",
    "            df = df[df.Semester.isin(sem)]\n",
    "        columns_to_delete = ['Reg No.', 'Semester'] #, 'Subject Class' not deleted for the moment\n",
    "        df[\"Subject Code\"] = df[\"Subject Code\"].str.slice(start = 1)\n",
    "        if level == 'JH3':\n",
    "            df.rename(columns = {'StudentName': 'Student Name', 'TeacherName': 'Teacher Name', 'Subject Code': 'Subject Code1'}, inplace = True)\n",
    "        else:\n",
    "            df.rename(columns = {'Subject Code': 'Subject Code1'}, inplace = True)\n",
    "    \n",
    "    df['Teacher Name'] = df['Teacher Name'].str.upper()\n",
    "    df['Teacher Name'] = df['Teacher Name'].str.strip()\n",
    "    df.drop(columns_to_delete, axis = 1, inplace = True)\n",
    "\n",
    "    lookup_df1 = pd.read_excel('Subject Code.xlsx', sheet_name='Sheet1')\n",
    "    subject_name_df = pd.DataFrame(lookup_df1, columns = ['Subject Code1', 'Subject Name'])\n",
    "    df = df.merge(subject_name_df, on='Subject Code1', how='left')\n",
    "\n",
    "    teacher_id_df = pd.DataFrame(lookup_df1, columns = ['Teacher Name', 'UserID'])\n",
    "    teacher_id_df['Teacher Name'] = teacher_id_df['Teacher Name'].str.upper()\n",
    "    teacher_id_df['Teacher Name'] = teacher_id_df['Teacher Name'].str.strip()\n",
    "\n",
    "    df = df.merge(teacher_id_df, on='Teacher Name', how='left')\n",
    "    df.rename(columns = {'UserID': 'TeacherIDs'}, inplace = True)\n",
    "\n",
    "    lookup_df2 = pd.read_excel('2020_SLS_userid.xlsx', sheet_name = level)\n",
    "    lookup_df2.rename(columns = {'Name': 'Student Name'}, inplace = True)\n",
    "    SLS_id_df = pd.DataFrame(lookup_df2, columns = ['Student Name', 'Userid'])\n",
    "\n",
    "    df = df.merge(SLS_id_df, on='Student Name', how='left')\n",
    "    # cols = list(df_jh1.columns.values)\n",
    "    # print(cols)\n",
    "\n",
    "    if level in ('SH1', 'SH2'):\n",
    "        df = df[['Userid', 'Class', 'Student Name', 'Gender', 'Subject Code', 'Subject Code1', 'Subject Name', 'Subject Class', 'Teacher Name', 'TeacherIDs']]\n",
    "    else:    \n",
    "        df = df[['Userid', 'PM Class', 'Student Name', 'Gender', 'Subject Code1', 'Subject Name', 'Subject Class', 'Teacher Name', 'TeacherIDs']]\n",
    "\n",
    "    return df"
   ]
  },
  {
   "cell_type": "code",
   "execution_count": null,
   "metadata": {},
   "outputs": [],
   "source": []
  },
  {
   "cell_type": "code",
   "execution_count": 2,
   "metadata": {},
   "outputs": [],
   "source": [
    "import pandas as pd \n",
    "import re\n",
    "\n",
    "levels = ['JH1', 'JH2', 'JH3', 'JH4', 'SH1', 'SH2']\n",
    "\n",
    "# df_jh1.to_excel('JH1.xlsx', index = False)\n",
    "\n",
    "df_teach = pd.read_excel('TeachersIDs.xlsx', sheet_name = 'TeachersIDs')\n",
    "\n",
    "with pd.ExcelWriter('2020 Subject Class List_all levels_T&L Survey.xlsx') as writer:\n",
    "    df_teach.to_excel(writer, sheet_name='TeachersIDs', index = False)\n",
    "    for level in levels:\n",
    "        df = format_learning_survey(level)\n",
    "        df.style.highlight_null(null_color = 'red').to_excel(writer, sheet_name=level, index = False)"
   ]
  },
  {
   "cell_type": "code",
   "execution_count": 9,
   "metadata": {},
   "outputs": [
    {
     "output_type": "display_data",
     "data": {
      "text/plain": "   NRIC  Reg No. PM Class  ... Subject Code Subject Class           Teacher Name\n0   NaN  2001001    JH101  ...           GA           NaN   YEO CHIN KENT ERNEST\n1   NaN  2001001    JH101  ...           CL          1CL1           LOW BOON CHU\n2   NaN  2001001    JH101  ...           GE           NaN  KOK JING YAO, JULIANA\n3   NaN  2001001    JH101  ...           HI           NaN            MAK WEISHAN\n4   NaN  2001001    JH101  ...           IS           NaN            TEO TAI WEI\n\n[5 rows x 9 columns]",
      "text/html": "<div>\n<style scoped>\n    .dataframe tbody tr th:only-of-type {\n        vertical-align: middle;\n    }\n\n    .dataframe tbody tr th {\n        vertical-align: top;\n    }\n\n    .dataframe thead th {\n        text-align: right;\n    }\n</style>\n<table border=\"1\" class=\"dataframe\">\n  <thead>\n    <tr style=\"text-align: right;\">\n      <th></th>\n      <th>NRIC</th>\n      <th>Reg No.</th>\n      <th>PM Class</th>\n      <th>Student Name</th>\n      <th>Gender</th>\n      <th>Semester</th>\n      <th>Subject Code</th>\n      <th>Subject Class</th>\n      <th>Teacher Name</th>\n    </tr>\n  </thead>\n  <tbody>\n    <tr>\n      <td>0</td>\n      <td>NaN</td>\n      <td>2001001</td>\n      <td>JH101</td>\n      <td>ANDREA ANG HUI SHAN</td>\n      <td>F</td>\n      <td>1</td>\n      <td>GA</td>\n      <td>NaN</td>\n      <td>YEO CHIN KENT ERNEST</td>\n    </tr>\n    <tr>\n      <td>1</td>\n      <td>NaN</td>\n      <td>2001001</td>\n      <td>JH101</td>\n      <td>ANDREA ANG HUI SHAN</td>\n      <td>F</td>\n      <td>Both</td>\n      <td>CL</td>\n      <td>1CL1</td>\n      <td>LOW BOON CHU</td>\n    </tr>\n    <tr>\n      <td>2</td>\n      <td>NaN</td>\n      <td>2001001</td>\n      <td>JH101</td>\n      <td>ANDREA ANG HUI SHAN</td>\n      <td>F</td>\n      <td>Both</td>\n      <td>GE</td>\n      <td>NaN</td>\n      <td>KOK JING YAO, JULIANA</td>\n    </tr>\n    <tr>\n      <td>3</td>\n      <td>NaN</td>\n      <td>2001001</td>\n      <td>JH101</td>\n      <td>ANDREA ANG HUI SHAN</td>\n      <td>F</td>\n      <td>Both</td>\n      <td>HI</td>\n      <td>NaN</td>\n      <td>MAK WEISHAN</td>\n    </tr>\n    <tr>\n      <td>4</td>\n      <td>NaN</td>\n      <td>2001001</td>\n      <td>JH101</td>\n      <td>ANDREA ANG HUI SHAN</td>\n      <td>F</td>\n      <td>Both</td>\n      <td>IS</td>\n      <td>NaN</td>\n      <td>TEO TAI WEI</td>\n    </tr>\n  </tbody>\n</table>\n</div>"
     },
     "metadata": {}
    }
   ],
   "source": [
    "import pandas as pd \n",
    "import re\n",
    "\n",
    "df_jh1 = pd.read_excel('Sample_students_data.xlsx',\n",
    "                        sheet_name='Sample JH Data')\n",
    "\n",
    "df_jh1[\"Subject Code\"] = df_jh1[\"Subject Code\"].str.slice(start = 1)\n",
    "\n",
    "display(df_jh1.head())\n"
   ]
  },
  {
   "cell_type": "code",
   "execution_count": null,
   "metadata": {},
   "outputs": [],
   "source": [
    "# df_jh1 = pd.read_excel('Sample_students_data.xlsx',\n",
    "#                         sheet_name='Sample JH Data')\n",
    "\n",
    "# columns_to_delete = ['NRIC', 'Semester', 'Subject Class']\n",
    "# df_jh1.drop(columns_to_delete, axis = 1, inplace = True)\n",
    "\n",
    "# df_jh1[\"Subject Code\"] = df_jh1[\"Subject Code\"].str.slice(start = 1)\n",
    "\n",
    "# df_jh1.rename(columns = {'Subject Code': 'Subject Code1', 'Teacher Name': 'Teacher Names'}, inplace = True)\n",
    "\n",
    "# lookup_df = pd.read_excel('Subject Code.xlsx', sheet_name='Sheet1')\n",
    "# subject_name_df = pd.DataFrame(lookup_df, columns = ['Subject Code1', 'Subject Name'])\n",
    "# df_jh1 = df_jh1.merge(subject_name_df, on='Subject Code1', how='left')\n",
    "\n",
    "# teacher_id_df = pd.DataFrame(lookup_df, columns = ['Teacher Names', 'UserID'])\n",
    "# df_jh1 = df_jh1.merge(teacher_id_df, on='Teacher Names', how='left')\n",
    "\n",
    "# df_jh1 = df_jh1[['Reg No.', 'PM Class', 'Student Name', 'Gender', 'Subject Code1', 'Subject Name', 'Teacher Names', 'UserID']]\n",
    "\n"
   ]
  },
  {
   "cell_type": "code",
   "execution_count": null,
   "metadata": {},
   "outputs": [],
   "source": []
  },
  {
   "cell_type": "code",
   "execution_count": 1,
   "metadata": {},
   "outputs": [],
   "source": [
    "class teacher:\n",
    "    def __init__(self, name, sls_id):\n",
    "        self._name = name\n",
    "        self._sls_id = sls_id\n",
    "\n",
    "    @property\n",
    "    def name(self):\n",
    "        return self._name\n",
    "\n",
    "    @property\n",
    "    def sls_id(self):\n",
    "        return self._sls_id\n"
   ]
  },
  {
   "cell_type": "code",
   "execution_count": 38,
   "metadata": {},
   "outputs": [],
   "source": [
    "\n",
    "\n",
    "# print(teacher_teams)\n"
   ]
  },
  {
   "cell_type": "code",
   "execution_count": 39,
   "metadata": {},
   "outputs": [],
   "source": [
    "\n",
    "\n",
    "    # print(teacher_dict)"
   ]
  },
  {
   "cell_type": "code",
   "execution_count": 23,
   "metadata": {},
   "outputs": [
    {
     "output_type": "stream",
     "name": "stdout",
     "text": "['CHAN PUI SHAN SELINA', 'SEE YEOW HOE']\n"
    }
   ],
   "source": []
  },
  {
   "cell_type": "code",
   "execution_count": 43,
   "metadata": {},
   "outputs": [
    {
     "output_type": "stream",
     "name": "stdout",
     "text": "['CHAN PUI SHAN SELINA, SEE YEOW HOE', 'MOE-76265A, MOE-25794F']\n['TEO TAI WEI, GAYLE SIM', 'MOE-16867Z, MOE-02617E']\n['TEO CHOR HOWE, LIM HUI CHI', 'MOE-45059G, MOE-43432B']\n['ARTINA BINTE SELAMAT, ZULIANA MOHD SUHOD', 'MOE-40573I, Contract teacher ']\n['LUM ZHI YONG AARON, CHAI YEN FONG', 'MOE-28034A, MOE-37319N']\n['TANG AILEEN, LUM ZHI YONG AARON', 'MOE-75448H, MOE-28034A']\n['FONG SU FERN VIVIEN, WANG MURAN', 'MOE-12019B, MOE-82609B']\n['CHIN KAI QING JULIANA, PHUA WILLIAM', 'MOE-5098A, MOE-07041I']\n['LYE WAI LENG, TAN XUAN WEN JEFFREY', 'MOE-48895D, MOE-31263J']\n['LAM YUEN WAI, LIM HUI CHI', 'MOE-06485I, MOE-43432B']\n['SING NIGEL JON, YEO CHIN KENT ERNEST', 'MOE-03232F, MOE-16360J']\n['ZULIANA MOHD SUHOD, IRYIANNA AHMAD', 'Contract teacher , MOE-09854I']\n['KWEK YUAN CHIA, IRYIANNA AHMAD', 'MOE-24571I, MOE-09854I']\n['GAYLE SIM, TANG AILEEN, LUM ZHI YONG AARON', 'MOE-02617E, MOE-75448H, MOE-28034A']\n['LIM CHIN MIN, PHUA WILLIAM', 'MOE-22816H, MOE-07041I']\n['GUO LANHUA, LIM CHIN MIN', 'MOE-83701D, MOE-22816H']\n['JOEY GOH QINYUAN, PHUA WILLIAM', 'MOE-42442D_1, MOE-07041I']\n['PRIYA V. JOTHI, LYE WAI LENG', 'MOE-05997F, MOE-48895D']\n['TAI MEI EN, YEO CHIN KENT ERNEST', 'MOE-17040I, MOE-16360J']\n['ONG CHYE MENG, CHER CAIFENG VALERIE', 'MOE-13485B, MOE-19918G']\n['CHEN LIANGCAI, CHAN YOON TENG', 'MOE-28086G, MOE-81331E']\n['LEE JIAN HAO JASON, KWEK YUAN CHIA', 'MOE-22797H, MOE-24571I']\n['LUM ZHI YONG AARON, GAYLE SIM', 'MOE-28034A, MOE-02617E']\n['GOH YINGLUN ALLAN, NICHOLAS TAN AUM YEOW, ADRIAN LOH SIN LOY', 'MOE-11249B, MOE-14745F, MOE-75373A']\n['NG XIU-LI, SING NIGEL JON', 'MOE-04103A, MOE-03232F']\n['GAYLE SIM, LUM ZHI YONG AARON', 'MOE-02617E, MOE-28034A']\n['NING HWEE TIANG, CHIN KAI QING JULIANA, TAN JIA MIN JASMINE', 'MOE-18470B, MOE-5098A, MOE-05410D']\n['LEE JIAN HAO JASON, WANG MURAN', 'MOE-22797H, MOE-82609B']\n['HUANG SHAN, TEO CHOR HOWE', 'MOE-83716H, MOE-45059G']\n['HO JIN QING, CHIN KAI QING JULIANA', 'MOE-31512F, MOE-5098A']\n['LEE JIAN HAO JASON, LIU WAI LING VIVIAN', 'MOE-22797H, MOE-70864H']\n['LIN DONGRUI JUSTIN, PRIYA V. JOTHI', 'MOE-22107B, MOE-05997F']\n['ZHANG JIANPING,ZHANG JIANLI', 'MOE-83318J, MOE-65150F']\n['TAN CHOR YEAN,TJHIN KE MING', 'MOE-32795F, MOE-03734C']\n['PHANG WEI CHENG,CHUAH LAY YEN', 'MOE-07996G,  MOE-75619Z']\n['LIEW YEW TZE,CHUAH LAY YEN', 'MOE-04351C,  MOE-75619Z']\n['CHUAH LAY YEN,BEK AIK CHIANG ALVIN', ' MOE-75619Z, MOE-23466F']\n['FONG CHEE HOE,CHUAH LAY YEN', 'MOE-05615P,  MOE-75619Z']\n['ARTINA BINTE SELAMAT,IRYIANNA AHMAD', 'MOE-40573I, MOE-09854I']\n['LEE SHU HUI DENISE,GAYLE SIM', 'MOE-27695C, MOE-02617E']\n['LEE SHU HUI DENISE,LUM ZHI YONG AARON', 'MOE-27695C, MOE-28034A']\n['YEO KOK PENG,LEE TAT LEONG', 'RT-53285H, MOE-05125B']\n['NYAM CHING WEE,YEO KOK PENG', 'MOE-13579I, RT-53285H']\n['LIM KIM HOCK,NYAM CHING WEE', 'MOE-00016F, MOE-13579I']\n['WANG SHILIANG,ONG CHYE MENG', 'MOE-40549Z, MOE-13485B']\n['ARTINA BINTE SELAMAT,KAO PEIXIN JAMIE', 'MOE-40573I, MOE-10264I']\n['TAY WEN LIN MELANIE,LIN DONGRUI JUSTIN', 'MOE-09817B, MOE-22107B']\n['LINDA FAUSTINA,LOW JENG WYE', 'MOE-75207G, MOE-46427B']\n['BEERTINO ROMEROW WOE,TAN CHOR YEAN', 'MOE-80673D, MOE-32795F']\n['SENTHIL KUMARAN,ZHANG JIANLI', 'MOE-13073G, MOE-65150F']\n['HENG LI LI AMANDA,YEO GIM SNG', 'MOE-39473D, MOE-93101I']\n['LIM HWEE KE,ZHANG JIANPING', 'MOE-23539C, MOE-83318J']\n['WONG HSIEN MING DAVID,REEF KOH JUNJIE', 'MOE-49357E, MOE-23513J']\n['YAP TECK SHENG TERENCE,ANDREW S/O ANDENY', 'MOE-45630J, MOE-11034D']\n['DASSIAH VICTOR JOHN,SHAHUL', 'MOE-71752C,  Contract teacher']\n['TEO CHOR HOWE,SING NIGEL JON', 'MOE-45059G, MOE-03232F']\n['LIN DONGRUI JUSTIN,SING NIGEL JON', 'MOE-22107B, MOE-03232F']\n['ASRAF ANGULLIA,JOEL POH WEINAN', 'MOE-06647D, MOE-15157Z']\n['POK WERN JIAN,BEK AIK CHIANG ALVIN,BEERTINO ROMEROW WOE', 'MOE-81399A, MOE-23466F, MOE-80673D']\n['POK WERN JIAN,CHEW JOO OON', 'MOE-81399A, MOE-57241F']\n['TAN SOON HENG SIMON,LEE TAT LEONG', 'MOE-40072H, MOE-05125B']\n['SOH HUIQING SYLVIA,HO HUI LIN', 'MOE-32705J, MOE-41009I']\n['NG SIANG NAN CARMEN,YONG XIN YING', 'MOE-42460G, MOE-21069G']\n['OH JIA LIN KAREN,TAN WEI REN BRYAN', 'MOE-12600A, MOE-43435A']\n['LEE CHING CHING CHRISTINE,LEONG KHAR WOH', 'MOE-48977B, MOE-35355A']\n['STEPHANIE FOO LI MIN,CHAI HAN CHIN DESMOND', 'MOE-22597I, MOE-12673C']\n['NG YEE LEE,TAN LEE HUI', 'MOE-19412B, MOE-31724B']\n['LEE TAT LEONG,CHEW JOO OON', 'MOE-05125B, MOE-57241F']\n['CHUA MANPING,WAN WAI SUM', 'MOE-41441F, MOE-12001I']\n['ER YINGHUI JUNICE,TJHIN KE MING', 'MOE-20150F, MOE-03734C']\n"
    }
   ],
   "source": [
    "import csv\n",
    "\n",
    "with open('Missing Teacher Pairs.csv') as f:\n",
    "    reader = csv.reader(f)\n",
    "    header = next(reader)\n",
    "    teacher_teams = [row[0] for row in reader if row[0] != '']\n",
    "    \n",
    "with open('TeachersIDs.csv') as f:\n",
    "    reader = csv.reader(f)\n",
    "    header = next(reader)\n",
    "    teacher_dict = {}\n",
    "    for row in reader:\n",
    "        teacher_dict[row[0]] = row[1]\n",
    "\n",
    "with open('output.csv', 'w', newline='') as file:\n",
    "    writer=csv.writer(file)\n",
    "    for team in teacher_teams:\n",
    "        uncleaned_names = team.split(',')\n",
    "        teacher_search = []\n",
    "        for t in uncleaned_names:\n",
    "            teacher_search.append(t.strip())\n",
    "        #print(teacher_search)\n",
    "        uid = [teacher_dict[i] for i in teacher_search]\n",
    "        teacher_ids = ', '.join(uid)\n",
    "        name_id = []\n",
    "        name_id.append(team)\n",
    "        name_id.append(teacher_ids)\n",
    "        print(name_id)\n",
    "        writer.writerow(name_id)"
   ]
  },
  {
   "cell_type": "code",
   "execution_count": 14,
   "metadata": {},
   "outputs": [
    {
     "output_type": "error",
     "ename": "KeyError",
     "evalue": "'LIN DONGRUI JUSTIN,PRIYA V.JOTHI'",
     "traceback": [
      "\u001b[0;31m---------------------------------------------------------------------------\u001b[0m",
      "\u001b[0;31mKeyError\u001b[0m                                  Traceback (most recent call last)",
      "\u001b[0;32m<ipython-input-14-c5f6d30fac22>\u001b[0m in \u001b[0;36m<module>\u001b[0;34m\u001b[0m\n\u001b[1;32m      3\u001b[0m     \u001b[0;32mfor\u001b[0m \u001b[0mteam\u001b[0m \u001b[0;32min\u001b[0m \u001b[0mteacher_teams\u001b[0m\u001b[0;34m:\u001b[0m\u001b[0;34m\u001b[0m\u001b[0;34m\u001b[0m\u001b[0m\n\u001b[1;32m      4\u001b[0m         \u001b[0mteacher_search\u001b[0m \u001b[0;34m=\u001b[0m \u001b[0mteam\u001b[0m\u001b[0;34m.\u001b[0m\u001b[0msplit\u001b[0m\u001b[0;34m(\u001b[0m\u001b[0;34m', '\u001b[0m\u001b[0;34m)\u001b[0m\u001b[0;34m\u001b[0m\u001b[0;34m\u001b[0m\u001b[0m\n\u001b[0;32m----> 5\u001b[0;31m         \u001b[0muid\u001b[0m \u001b[0;34m=\u001b[0m \u001b[0;34m[\u001b[0m\u001b[0mteacher_dict\u001b[0m\u001b[0;34m[\u001b[0m\u001b[0mi\u001b[0m\u001b[0;34m]\u001b[0m \u001b[0;32mfor\u001b[0m \u001b[0mi\u001b[0m \u001b[0;32min\u001b[0m \u001b[0mteacher_search\u001b[0m\u001b[0;34m]\u001b[0m\u001b[0;34m\u001b[0m\u001b[0;34m\u001b[0m\u001b[0m\n\u001b[0m\u001b[1;32m      6\u001b[0m         \u001b[0mteacher_ids\u001b[0m \u001b[0;34m=\u001b[0m \u001b[0;34m', '\u001b[0m\u001b[0;34m.\u001b[0m\u001b[0mjoin\u001b[0m\u001b[0;34m(\u001b[0m\u001b[0muid\u001b[0m\u001b[0;34m)\u001b[0m\u001b[0;34m\u001b[0m\u001b[0;34m\u001b[0m\u001b[0m\n\u001b[1;32m      7\u001b[0m         \u001b[0mname_id\u001b[0m \u001b[0;34m=\u001b[0m \u001b[0;34m[\u001b[0m\u001b[0;34m]\u001b[0m\u001b[0;34m\u001b[0m\u001b[0;34m\u001b[0m\u001b[0m\n",
      "\u001b[0;32m<ipython-input-14-c5f6d30fac22>\u001b[0m in \u001b[0;36m<listcomp>\u001b[0;34m(.0)\u001b[0m\n\u001b[1;32m      3\u001b[0m     \u001b[0;32mfor\u001b[0m \u001b[0mteam\u001b[0m \u001b[0;32min\u001b[0m \u001b[0mteacher_teams\u001b[0m\u001b[0;34m:\u001b[0m\u001b[0;34m\u001b[0m\u001b[0;34m\u001b[0m\u001b[0m\n\u001b[1;32m      4\u001b[0m         \u001b[0mteacher_search\u001b[0m \u001b[0;34m=\u001b[0m \u001b[0mteam\u001b[0m\u001b[0;34m.\u001b[0m\u001b[0msplit\u001b[0m\u001b[0;34m(\u001b[0m\u001b[0;34m', '\u001b[0m\u001b[0;34m)\u001b[0m\u001b[0;34m\u001b[0m\u001b[0;34m\u001b[0m\u001b[0m\n\u001b[0;32m----> 5\u001b[0;31m         \u001b[0muid\u001b[0m \u001b[0;34m=\u001b[0m \u001b[0;34m[\u001b[0m\u001b[0mteacher_dict\u001b[0m\u001b[0;34m[\u001b[0m\u001b[0mi\u001b[0m\u001b[0;34m]\u001b[0m \u001b[0;32mfor\u001b[0m \u001b[0mi\u001b[0m \u001b[0;32min\u001b[0m \u001b[0mteacher_search\u001b[0m\u001b[0;34m]\u001b[0m\u001b[0;34m\u001b[0m\u001b[0;34m\u001b[0m\u001b[0m\n\u001b[0m\u001b[1;32m      6\u001b[0m         \u001b[0mteacher_ids\u001b[0m \u001b[0;34m=\u001b[0m \u001b[0;34m', '\u001b[0m\u001b[0;34m.\u001b[0m\u001b[0mjoin\u001b[0m\u001b[0;34m(\u001b[0m\u001b[0muid\u001b[0m\u001b[0;34m)\u001b[0m\u001b[0;34m\u001b[0m\u001b[0;34m\u001b[0m\u001b[0m\n\u001b[1;32m      7\u001b[0m         \u001b[0mname_id\u001b[0m \u001b[0;34m=\u001b[0m \u001b[0;34m[\u001b[0m\u001b[0;34m]\u001b[0m\u001b[0;34m\u001b[0m\u001b[0;34m\u001b[0m\u001b[0m\n",
      "\u001b[0;31mKeyError\u001b[0m: 'LIN DONGRUI JUSTIN,PRIYA V.JOTHI'"
     ]
    }
   ],
   "source": [
    "with open('output.csv', 'w', newline='') as file:\n",
    "    writer=csv.writer(file)\n",
    "    for team in teacher_teams:\n",
    "        teacher_search = team.split(', ')\n",
    "        uid = [teacher_dict[i] for i in teacher_search]\n",
    "        teacher_ids = ', '.join(uid)\n",
    "        name_id = []\n",
    "        name_id.append(team)\n",
    "        name_id.append(teacher_ids)\n",
    "        writer.writerow(name_id)\n"
   ]
  },
  {
   "cell_type": "code",
   "execution_count": null,
   "metadata": {},
   "outputs": [],
   "source": []
  },
  {
   "cell_type": "code",
   "execution_count": null,
   "metadata": {},
   "outputs": [],
   "source": []
  },
  {
   "cell_type": "code",
   "execution_count": 16,
   "metadata": {},
   "outputs": [
    {
     "output_type": "stream",
     "name": "stdout",
     "text": "['Kwek Yuan Chia, Taranpal Singh', 'MOE-24571I, MOE-05653C']\n"
    }
   ],
   "source": [
    "import csv\n",
    "\n",
    "teacher_dict = {'Kwek Yuan Chia':'MOE-24571I', 'Taranpal Singh':'MOE-05653C'}\n",
    "teacher_names = [['Kwek Yuan Chia, Taranpal Singh']]\n",
    "\n",
    "teacher_search = teacher_names[0][0].split(', ')\n",
    "uid = []\n",
    "for i in teacher_search:\n",
    "    uid.append(teacher_dict[i])\n",
    "\n",
    "teacher_ids = ', '.join(uid)\n",
    "# print(teacher_ids)\n",
    "\n",
    "teacher_names[0].append(teacher_ids)\n",
    "print(teacher_names[0])\n",
    "\n",
    "with open('output.csv', 'w', newline='') as file:\n",
    "    writer=csv.writer(file)\n",
    "    for row in teacher_names:\n",
    "        writer.writerow(row)\n"
   ]
  },
  {
   "cell_type": "code",
   "execution_count": null,
   "metadata": {},
   "outputs": [],
   "source": []
  },
  {
   "cell_type": "code",
   "execution_count": null,
   "metadata": {},
   "outputs": [],
   "source": []
  },
  {
   "cell_type": "code",
   "execution_count": null,
   "metadata": {},
   "outputs": [],
   "source": []
  },
  {
   "cell_type": "code",
   "execution_count": null,
   "metadata": {},
   "outputs": [],
   "source": []
  }
 ],
 "metadata": {
  "language_info": {
   "codemirror_mode": {
    "name": "ipython",
    "version": 3
   },
   "file_extension": ".py",
   "mimetype": "text/x-python",
   "name": "python",
   "nbconvert_exporter": "python",
   "pygments_lexer": "ipython3",
   "version": "3.8.0-final"
  },
  "orig_nbformat": 2,
  "kernelspec": {
   "name": "python3",
   "display_name": "Python 3"
  }
 },
 "nbformat": 4,
 "nbformat_minor": 2
}