{
 "cells": [
  {
   "cell_type": "code",
   "execution_count": 2,
   "metadata": {},
   "outputs": [],
   "source": [
    "def inputPuzzle():\n",
    "    rows = []\n",
    "    for i in range(9):\n",
    "        validInput = False\n",
    "        while not validInput:\n",
    "            userInput = input('Key in a row of 9 digits')\n",
    "            if userInput == 'q':\n",
    "                return -1\n",
    "            row = userInput.split(' ')\n",
    "            correctNumChar = (len(row) == 9)\n",
    "            if not correctNumChar:\n",
    "                print('incorrect number of character')\n",
    "            allDigits_correctValues = True\n",
    "            for c in row:\n",
    "                if (not c.isdigit()) or c not in ('1','2','3','4','5','6','7','8','9'):\n",
    "                    allDigits_correctValues = False\n",
    "                    print('digits incorrect, please key in row again')\n",
    "            validInput = correctNumChar and allDigits_correctValues\n",
    "        print(f'number of rows correctly keyed = {i+1}, you just keyed in {row}')\n",
    "        rows.append(row)\n",
    "    return rows\n",
    "\n",
    "example1 = [\n",
    "    ['7', '8', '2', '9', '1', '3', '4', '5', '6'],\n",
    "    ['1', '4', '5', '8', '7', '6', '9', '2', '3'],\n",
    "    ['6', '9', '3', '4', '5', '2', '7', '1', '8'],\n",
    "    ['2', '7', '9', '5', '3', '1', '8', '6', '4'],\n",
    "    ['5', '6', '4', '2', '9', '8', '1', '3', '7'],\n",
    "    ['3', '1', '8', '7', '6', '4', '5', '9', '2'],\n",
    "    ['4', '5', '1', '6', '2', '7', '3', '8', '9'],\n",
    "    ['9', '2', '7', '3', '8', '5', '6', '4', '1'],\n",
    "    ['8', '3', '6', '1', '4', '9', '2', '7', '5'],\n",
    "    ]\n",
    "example2 = [\n",
    "    ['7', '8', '2', '9', '1', '3', '4', '5', '6'],\n",
    "    ['1', '4', '5', '8', '7', '6', '9', '2', '3'],\n",
    "    ['6', '9', '3', '6', '5', '2', '7', '1', '8'],\n",
    "    ['2', '7', '9', '5', '3', '1', '8', '6', '4'],\n",
    "    ['5', '6', '4', '2', '9', '8', '1', '3', '7'],\n",
    "    ['3', '1', '8', '7', '6', '4', '5', '9', '2'],\n",
    "    ['4', '5', '1', '6', '2', '7', '3', '8', '9'],\n",
    "    ['9', '2', '7', '3', '8', '5', '6', '4', '1'],\n",
    "    ['8', '3', '6', '1', '4', '9', '2', '7', '5'],\n",
    "]\n",
    "            "
   ]
  }
 ],
 "metadata": {
  "kernelspec": {
   "display_name": "Python 3",
   "language": "python",
   "name": "python3"
  },
  "language_info": {
   "codemirror_mode": {
    "name": "ipython",
    "version": 3
   },
   "file_extension": ".py",
   "mimetype": "text/x-python",
   "name": "python",
   "nbconvert_exporter": "python",
   "pygments_lexer": "ipython3",
   "version": "3.11.3"
  }
 },
 "nbformat": 4,
 "nbformat_minor": 2
}
