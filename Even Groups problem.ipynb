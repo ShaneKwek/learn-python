{
 "cells": [
  {
   "cell_type": "markdown",
   "metadata": {},
   "source": [
    "Even Groups\n",
    "Create a function, split_integer(), that takes two integers as inputs, number and parts. The integer number needs to be split into parts groups as evenly as possible.\n",
    "\n",
    "Examples:\n",
    "split_integer(7,3) -> [2,2,3]\n",
    "split_integer(3,5) -> [0,0,1,1,1]\n",
    "split_integer(10,4) -> [2,2,3,3]"
   ]
  },
  {
   "cell_type": "code",
   "execution_count": 1,
   "metadata": {},
   "outputs": [
    {
     "data": {
      "text/plain": [
       "[2, 2, 3, 3]"
      ]
     },
     "execution_count": 1,
     "metadata": {},
     "output_type": "execute_result"
    }
   ],
   "source": [
    "def split_integer(number, parts):\n",
    "    base_num_per_part = number//parts\n",
    "    if base_num_per_part * parts == number:\n",
    "        return [base_num_per_part for _ in range(parts)]\n",
    "    else:\n",
    "        splitted_evenly_list =  [base_num_per_part for _ in range(parts)]\n",
    "        # print(splitted_evenly_list)\n",
    "        remainder = number % parts\n",
    "        for i in range(remainder):\n",
    "            splitted_evenly_list[parts-i-1]+=1\n",
    "        return splitted_evenly_list\n",
    "\n",
    "split_integer(10,4)"
   ]
  }
 ],
 "metadata": {
  "kernelspec": {
   "display_name": "Python 3",
   "language": "python",
   "name": "python3"
  },
  "language_info": {
   "codemirror_mode": {
    "name": "ipython",
    "version": 3
   },
   "file_extension": ".py",
   "mimetype": "text/x-python",
   "name": "python",
   "nbconvert_exporter": "python",
   "pygments_lexer": "ipython3",
   "version": "3.11.3"
  }
 },
 "nbformat": 4,
 "nbformat_minor": 2
}
